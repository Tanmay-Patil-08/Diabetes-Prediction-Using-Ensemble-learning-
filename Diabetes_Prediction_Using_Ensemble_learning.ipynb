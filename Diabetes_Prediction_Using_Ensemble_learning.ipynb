{
  "nbformat": 4,
  "nbformat_minor": 0,
  "metadata": {
    "colab": {
      "provenance": [],
      "authorship_tag": "ABX9TyPViWxVEznX3rFfIrMTmfsK",
      "include_colab_link": true
    },
    "kernelspec": {
      "name": "python3",
      "display_name": "Python 3"
    },
    "language_info": {
      "name": "python"
    }
  },
  "cells": [
    {
      "cell_type": "markdown",
      "metadata": {
        "id": "view-in-github",
        "colab_type": "text"
      },
      "source": [
        "<a href=\"https://colab.research.google.com/github/Tanmay-Patil-08/Diabetes-Prediction-Using-Ensemble-learning-/blob/main/Diabetes_Prediction_Using_Ensemble_learning.ipynb\" target=\"_parent\"><img src=\"https://colab.research.google.com/assets/colab-badge.svg\" alt=\"Open In Colab\"/></a>"
      ]
    },
    {
      "cell_type": "code",
      "execution_count": 1,
      "metadata": {
        "id": "4yP3pM48kMzo"
      },
      "outputs": [],
      "source": [
        "import sklearn as sk "
      ]
    },
    {
      "cell_type": "code",
      "source": [
        "import tensorflow as tf "
      ],
      "metadata": {
        "id": "qZKWZuCZkbcz"
      },
      "execution_count": 2,
      "outputs": []
    },
    {
      "cell_type": "code",
      "source": [],
      "metadata": {
        "id": "6X6nZA9Xkxwj"
      },
      "execution_count": null,
      "outputs": []
    }
  ]
}